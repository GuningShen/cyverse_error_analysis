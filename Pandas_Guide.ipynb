{
 "cells": [
  {
   "cell_type": "markdown",
   "id": "1c588ab5",
   "metadata": {},
   "source": [
    "# Import Packages"
   ]
  },
  {
   "cell_type": "code",
   "execution_count": 1,
   "id": "c2d74669",
   "metadata": {},
   "outputs": [],
   "source": [
    "import json\n",
    "import os\n",
    "import pandas as pd\n",
    "from datetime import datetime "
   ]
  },
  {
   "cell_type": "markdown",
   "id": "8a7a676d",
   "metadata": {},
   "source": [
    "# Load Data"
   ]
  },
  {
   "cell_type": "code",
   "execution_count": 3,
   "id": "eaffc168",
   "metadata": {},
   "outputs": [
    {
     "data": {
      "text/html": [
       "<div>\n",
       "<style scoped>\n",
       "    .dataframe tbody tr th:only-of-type {\n",
       "        vertical-align: middle;\n",
       "    }\n",
       "\n",
       "    .dataframe tbody tr th {\n",
       "        vertical-align: top;\n",
       "    }\n",
       "\n",
       "    .dataframe thead th {\n",
       "        text-align: right;\n",
       "    }\n",
       "</style>\n",
       "<table border=\"1\" class=\"dataframe\">\n",
       "  <thead>\n",
       "    <tr style=\"text-align: right;\">\n",
       "      <th></th>\n",
       "      <th>time</th>\n",
       "      <th>Log ID</th>\n",
       "      <th>Course</th>\n",
       "      <th>Log Type</th>\n",
       "      <th>command</th>\n",
       "      <th>file</th>\n",
       "      <th>filename</th>\n",
       "      <th>full_command</th>\n",
       "      <th>stderr</th>\n",
       "      <th>stdout</th>\n",
       "    </tr>\n",
       "  </thead>\n",
       "  <tbody>\n",
       "    <tr>\n",
       "      <th>0</th>\n",
       "      <td>2022-09-29 19:19:00</td>\n",
       "      <td>6c940b1fbdd022d6db2d5840dfd7207c30a060b05b4353...</td>\n",
       "      <td>Cyverse-RNA-Tutorial</td>\n",
       "      <td>Bash</td>\n",
       "      <td>ls</td>\n",
       "      <td></td>\n",
       "      <td></td>\n",
       "      <td>ls</td>\n",
       "      <td></td>\n",
       "      <td>data\\nhome\\nstderr.txt\\nSuperShell</td>\n",
       "    </tr>\n",
       "    <tr>\n",
       "      <th>1</th>\n",
       "      <td>2022-09-29 19:20:00</td>\n",
       "      <td>6c940b1fbdd022d6db2d5840dfd7207c30a060b05b4353...</td>\n",
       "      <td>Cyverse-RNA-Tutorial</td>\n",
       "      <td>Bash</td>\n",
       "      <td>ls</td>\n",
       "      <td></td>\n",
       "      <td>.</td>\n",
       "      <td>ls .</td>\n",
       "      <td></td>\n",
       "      <td>data\\nhome\\nstderr.txt\\nSuperShell</td>\n",
       "    </tr>\n",
       "    <tr>\n",
       "      <th>2</th>\n",
       "      <td>2022-09-29 19:20:00</td>\n",
       "      <td>6c940b1fbdd022d6db2d5840dfd7207c30a060b05b4353...</td>\n",
       "      <td>Cyverse-RNA-Tutorial</td>\n",
       "      <td>Bash</td>\n",
       "      <td>clear</td>\n",
       "      <td></td>\n",
       "      <td></td>\n",
       "      <td>clear</td>\n",
       "      <td></td>\n",
       "      <td>\u001b[H\u001b[2J\u001b[3J</td>\n",
       "    </tr>\n",
       "    <tr>\n",
       "      <th>3</th>\n",
       "      <td>2022-09-29 19:24:00</td>\n",
       "      <td>6c940b1fbdd022d6db2d5840dfd7207c30a060b05b4353...</td>\n",
       "      <td>Cyverse-RNA-Tutorial</td>\n",
       "      <td>Bash</td>\n",
       "      <td>cd</td>\n",
       "      <td></td>\n",
       "      <td></td>\n",
       "      <td>cd Bash</td>\n",
       "      <td>/home/jovyan/.offline.sh: line 354: cd: Bash: ...</td>\n",
       "      <td></td>\n",
       "    </tr>\n",
       "    <tr>\n",
       "      <th>4</th>\n",
       "      <td>2022-09-29 19:24:00</td>\n",
       "      <td>6c940b1fbdd022d6db2d5840dfd7207c30a060b05b4353...</td>\n",
       "      <td>Cyverse-RNA-Tutorial</td>\n",
       "      <td>Bash</td>\n",
       "      <td>cd</td>\n",
       "      <td></td>\n",
       "      <td></td>\n",
       "      <td>cd home</td>\n",
       "      <td></td>\n",
       "      <td></td>\n",
       "    </tr>\n",
       "  </tbody>\n",
       "</table>\n",
       "</div>"
      ],
      "text/plain": [
       "                 time                                             Log ID  \\\n",
       "0 2022-09-29 19:19:00  6c940b1fbdd022d6db2d5840dfd7207c30a060b05b4353...   \n",
       "1 2022-09-29 19:20:00  6c940b1fbdd022d6db2d5840dfd7207c30a060b05b4353...   \n",
       "2 2022-09-29 19:20:00  6c940b1fbdd022d6db2d5840dfd7207c30a060b05b4353...   \n",
       "3 2022-09-29 19:24:00  6c940b1fbdd022d6db2d5840dfd7207c30a060b05b4353...   \n",
       "4 2022-09-29 19:24:00  6c940b1fbdd022d6db2d5840dfd7207c30a060b05b4353...   \n",
       "\n",
       "                 Course Log Type command file filename full_command  \\\n",
       "0  Cyverse-RNA-Tutorial     Bash      ls                         ls   \n",
       "1  Cyverse-RNA-Tutorial     Bash      ls             .         ls .   \n",
       "2  Cyverse-RNA-Tutorial     Bash   clear                      clear   \n",
       "3  Cyverse-RNA-Tutorial     Bash      cd                    cd Bash   \n",
       "4  Cyverse-RNA-Tutorial     Bash      cd                    cd home   \n",
       "\n",
       "                                              stderr  \\\n",
       "0                                                      \n",
       "1                                                      \n",
       "2                                                      \n",
       "3  /home/jovyan/.offline.sh: line 354: cd: Bash: ...   \n",
       "4                                                      \n",
       "\n",
       "                               stdout  \n",
       "0  data\\nhome\\nstderr.txt\\nSuperShell  \n",
       "1  data\\nhome\\nstderr.txt\\nSuperShell  \n",
       "2                         \u001b[H\u001b[2J\u001b[3J  \n",
       "3                                      \n",
       "4                                      "
      ]
     },
     "execution_count": 3,
     "metadata": {},
     "output_type": "execute_result"
    }
   ],
   "source": [
    "output_dir = \"output_data/\"\n",
    "file = \"response1.pki\"\n",
    "raw_data = pd.read_pickle(output_dir + file)\n",
    "raw_data.head()"
   ]
  },
  {
   "cell_type": "code",
   "execution_count": 4,
   "id": "8082d273",
   "metadata": {},
   "outputs": [
    {
     "name": "stderr",
     "output_type": "stream",
     "text": [
      "/var/folders/_b/rq1fj9612sdb5kbz23pyqrm80000gn/T/ipykernel_46056/3646701449.py:1: FutureWarning: Treating datetime data as categorical rather than numeric in `.describe` is deprecated and will be removed in a future version of pandas. Specify `datetime_is_numeric=True` to silence this warning and adopt the future behavior now.\n",
      "  raw_data.describe()\n"
     ]
    },
    {
     "data": {
      "text/html": [
       "<div>\n",
       "<style scoped>\n",
       "    .dataframe tbody tr th:only-of-type {\n",
       "        vertical-align: middle;\n",
       "    }\n",
       "\n",
       "    .dataframe tbody tr th {\n",
       "        vertical-align: top;\n",
       "    }\n",
       "\n",
       "    .dataframe thead th {\n",
       "        text-align: right;\n",
       "    }\n",
       "</style>\n",
       "<table border=\"1\" class=\"dataframe\">\n",
       "  <thead>\n",
       "    <tr style=\"text-align: right;\">\n",
       "      <th></th>\n",
       "      <th>time</th>\n",
       "      <th>Log ID</th>\n",
       "      <th>Course</th>\n",
       "      <th>Log Type</th>\n",
       "      <th>command</th>\n",
       "      <th>file</th>\n",
       "      <th>filename</th>\n",
       "      <th>full_command</th>\n",
       "      <th>stderr</th>\n",
       "      <th>stdout</th>\n",
       "    </tr>\n",
       "  </thead>\n",
       "  <tbody>\n",
       "    <tr>\n",
       "      <th>count</th>\n",
       "      <td>27</td>\n",
       "      <td>27</td>\n",
       "      <td>27</td>\n",
       "      <td>27</td>\n",
       "      <td>27</td>\n",
       "      <td>27</td>\n",
       "      <td>27</td>\n",
       "      <td>27</td>\n",
       "      <td>27</td>\n",
       "      <td>27</td>\n",
       "    </tr>\n",
       "    <tr>\n",
       "      <th>unique</th>\n",
       "      <td>9</td>\n",
       "      <td>2</td>\n",
       "      <td>1</td>\n",
       "      <td>1</td>\n",
       "      <td>4</td>\n",
       "      <td>1</td>\n",
       "      <td>4</td>\n",
       "      <td>19</td>\n",
       "      <td>9</td>\n",
       "      <td>8</td>\n",
       "    </tr>\n",
       "    <tr>\n",
       "      <th>top</th>\n",
       "      <td>2022-09-29 19:25:00</td>\n",
       "      <td>6c940b1fbdd022d6db2d5840dfd7207c30a060b05b4353...</td>\n",
       "      <td>Cyverse-RNA-Tutorial</td>\n",
       "      <td>Bash</td>\n",
       "      <td>ls</td>\n",
       "      <td></td>\n",
       "      <td></td>\n",
       "      <td>ls</td>\n",
       "      <td></td>\n",
       "      <td></td>\n",
       "    </tr>\n",
       "    <tr>\n",
       "      <th>freq</th>\n",
       "      <td>6</td>\n",
       "      <td>14</td>\n",
       "      <td>27</td>\n",
       "      <td>27</td>\n",
       "      <td>16</td>\n",
       "      <td>27</td>\n",
       "      <td>24</td>\n",
       "      <td>8</td>\n",
       "      <td>19</td>\n",
       "      <td>16</td>\n",
       "    </tr>\n",
       "    <tr>\n",
       "      <th>first</th>\n",
       "      <td>2022-09-29 19:19:00</td>\n",
       "      <td>NaN</td>\n",
       "      <td>NaN</td>\n",
       "      <td>NaN</td>\n",
       "      <td>NaN</td>\n",
       "      <td>NaN</td>\n",
       "      <td>NaN</td>\n",
       "      <td>NaN</td>\n",
       "      <td>NaN</td>\n",
       "      <td>NaN</td>\n",
       "    </tr>\n",
       "    <tr>\n",
       "      <th>last</th>\n",
       "      <td>2022-10-14 00:23:00</td>\n",
       "      <td>NaN</td>\n",
       "      <td>NaN</td>\n",
       "      <td>NaN</td>\n",
       "      <td>NaN</td>\n",
       "      <td>NaN</td>\n",
       "      <td>NaN</td>\n",
       "      <td>NaN</td>\n",
       "      <td>NaN</td>\n",
       "      <td>NaN</td>\n",
       "    </tr>\n",
       "  </tbody>\n",
       "</table>\n",
       "</div>"
      ],
      "text/plain": [
       "                       time  \\\n",
       "count                    27   \n",
       "unique                    9   \n",
       "top     2022-09-29 19:25:00   \n",
       "freq                      6   \n",
       "first   2022-09-29 19:19:00   \n",
       "last    2022-10-14 00:23:00   \n",
       "\n",
       "                                                   Log ID  \\\n",
       "count                                                  27   \n",
       "unique                                                  2   \n",
       "top     6c940b1fbdd022d6db2d5840dfd7207c30a060b05b4353...   \n",
       "freq                                                   14   \n",
       "first                                                 NaN   \n",
       "last                                                  NaN   \n",
       "\n",
       "                      Course Log Type command file filename full_command  \\\n",
       "count                     27       27      27   27       27           27   \n",
       "unique                     1        1       4    1        4           19   \n",
       "top     Cyverse-RNA-Tutorial     Bash      ls                         ls   \n",
       "freq                      27       27      16   27       24            8   \n",
       "first                    NaN      NaN     NaN  NaN      NaN          NaN   \n",
       "last                     NaN      NaN     NaN  NaN      NaN          NaN   \n",
       "\n",
       "       stderr stdout  \n",
       "count      27     27  \n",
       "unique      9      8  \n",
       "top                   \n",
       "freq       19     16  \n",
       "first     NaN    NaN  \n",
       "last      NaN    NaN  "
      ]
     },
     "execution_count": 4,
     "metadata": {},
     "output_type": "execute_result"
    }
   ],
   "source": [
    "raw_data.describe()"
   ]
  },
  {
   "cell_type": "code",
   "execution_count": 5,
   "id": "2ee8f3e3",
   "metadata": {},
   "outputs": [
    {
     "data": {
      "text/plain": [
       "array([[<AxesSubplot:title={'center':'time'}>]], dtype=object)"
      ]
     },
     "execution_count": 5,
     "metadata": {},
     "output_type": "execute_result"
    },
    {
     "data": {
      "image/png": "[encoded data removed]",
      "text/plain": [
       "<Figure size 432x288 with 1 Axes>"
      ]
     },
     "metadata": {
      "needs_background": "light"
     },
     "output_type": "display_data"
    }
   ],
   "source": [
    "raw_data.hist()"
   ]
  },
  {
   "cell_type": "markdown",
   "id": "8c1b83b2",
   "metadata": {},
   "source": [
    "# Pandas Processing "
   ]
  },
  {
   "cell_type": "markdown",
   "id": "03b495c2",
   "metadata": {},
   "source": [
    "## Group By"
   ]
  },
  {
   "cell_type": "code",
   "execution_count": null,
   "id": "af261b74",
   "metadata": {},
   "outputs": [],
   "source": []
  }
 ],
 "metadata": {
  "kernelspec": {
   "display_name": "Python 3 (ipykernel)",
   "language": "python",
   "name": "python3"
  },
  "language_info": {
   "codemirror_mode": {
    "name": "ipython",
    "version": 3
   },
   "file_extension": ".py",
   "mimetype": "text/x-python",
   "name": "python",
   "nbconvert_exporter": "python",
   "pygments_lexer": "ipython3",
   "version": "3.10.6"
  }
 },
 "nbformat": 4,
 "nbformat_minor": 5
}
